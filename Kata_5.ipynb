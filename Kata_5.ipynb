{
 "cells": [
  {
   "cell_type": "code",
   "execution_count": null,
   "metadata": {},
   "outputs": [],
   "source": []
  },
  {
   "cell_type": "markdown",
   "metadata": {},
   "source": [
    "# KATA 5\n",
    "\n",
    "Operadores aritméticos en Python\n",
    "\n",
    "Python proporciona operadores aritméticos comunes para que puedas realizar operaciones matemáticas en tu código. Estos incluyen las cuatro operaciones principales de suma, resta, multiplicación y división.\n",
    "\n",
    "Exploremos cómo podemos crear un programa que pueda calcular la distancia entre dos planetas. Comenzaremos usando dos distancias de planetas: \n",
    "\n",
    "Tierra (149.597.870 km) y Júpiter (778.547.200 km)."
   ]
  },
  {
   "cell_type": "code",
   "execution_count": 7,
   "metadata": {},
   "outputs": [
    {
     "name": "stdout",
     "output_type": "stream",
     "text": [
      "Tierra: 149597870 km\n",
      "Jupiter: 778547200 km\n"
     ]
    }
   ],
   "source": [
    "tierra = 149597870\n",
    "jupiter = 778547200\n",
    "\n",
    "print('Tierra: ' + str(tierra) + ' km')\n",
    "print('Jupiter: ' + str(jupiter) + ' km')"
   ]
  },
  {
   "cell_type": "markdown",
   "metadata": {},
   "source": [
    "\n",
    "Realizar la operación\n",
    "\n",
    "Con los valores obtenidos, es el momento de añadir el código para realizar la operación. Restarás el primer planeta del segundo para determinar la distancia en kilómetros. A continuación, puedes convertir la distancia del kilómetro en millas multiplicándola por 0.621.\n"
   ]
  },
  {
   "cell_type": "code",
   "execution_count": 13,
   "metadata": {},
   "outputs": [
    {
     "name": "stdout",
     "output_type": "stream",
     "text": [
      "Tierra: 149597870 km\n",
      "Jupiter: 778547200 km\n",
      "-628949330 km\n",
      "-390577533.93 mi\n"
     ]
    }
   ],
   "source": [
    "tierra = 149597870\n",
    "jupiter = 778547200\n",
    "\n",
    "print('Tierra: ' + str(tierra) + ' km')\n",
    "print('Jupiter: ' + str(jupiter) + ' km')\n",
    "\n",
    "distancia = tierra - jupiter\n",
    "print(str(distancia) + ' km')\n",
    "\n",
    "distanciaMi = distancia * 0.621\n",
    "print(str(distanciaMi) + ' mi')"
   ]
  },
  {
   "cell_type": "markdown",
   "metadata": {},
   "source": [
    "\n",
    "Ejercicio 2: convierte cadenas en números y usa valores absolutos\n",
    "\n",
    "Crear una aplicación para trabajar con números y entrada de usuario\n",
    "\n",
    "Con frecuencia, deberás convertir los valores de cadena en números para realizar correctamente diferentes operaciones o determinar el valor absoluto de un número.\n",
    "\n",
    "Para crear nuestra aplicación, queremos leer la distancia del SOL para dos planetas, y luego mostrar la distancia entre los planetas. Haremos esto usando input para leer los valores, int para convertir a entero y luego abs para convertir el resultado en su valor absoluto.\n"
   ]
  },
  {
   "cell_type": "markdown",
   "metadata": {},
   "source": [
    "\n",
    "Lee los valores\n",
    "\n",
    "Usando input, agrega el código para leer la distancia del sol para cada planeta, considerando 2 planetas.\n"
   ]
  },
  {
   "cell_type": "code",
   "execution_count": 16,
   "metadata": {},
   "outputs": [
    {
     "name": "stdout",
     "output_type": "stream",
     "text": [
      "597\n",
      "132\n"
     ]
    }
   ],
   "source": [
    "planeta_1 = input (\"¿Cual es la distancia al Sol del Planeta_1 ?\")\n",
    "print(planeta_1)\n",
    "\n",
    "planeta_2 = input (\"¿Cual es la distancia al Sol del Planeta_2 ?\")\n",
    "print(planeta_2)\n"
   ]
  },
  {
   "cell_type": "markdown",
   "metadata": {},
   "source": [
    "\n",
    "Convertir a número\n",
    "\n",
    "Debido a que input devuelve valores de cadena, necesitamos convertirlos en números. Para nuestro ejemplo, usaremos int\n"
   ]
  },
  {
   "cell_type": "code",
   "execution_count": null,
   "metadata": {},
   "outputs": [],
   "source": [
    "planeta_1 = input (\"¿Cual es la distancia al Sol del Planeta_1 ?\")\n",
    "planeta_1 = int(planeta_1)\n",
    "print(planeta_1)\n",
    "\n",
    "planeta_2 = input (\"¿Cual es la distancia al Sol del Planeta_2 ?\")\n",
    "planeta_2 = int(planeta_2)\n",
    "print(planeta_2)\n"
   ]
  },
  {
   "cell_type": "markdown",
   "metadata": {},
   "source": [
    "\n",
    "Realizar el cálculo y convertir a valor absoluto\n",
    "\n",
    "Con los valores almacenados como números, ahora puedes agregar el código para realizar el cálculo, restando el primer planeta del segundo. Debido a que el segundo planeta podría ser un número mayor, usarás abs para convertirlo a un valor absoluto. También agregarás el código para mostrar el resultado en millas multiplicando la distancia del kilómetro por 0.621\n"
   ]
  },
  {
   "cell_type": "code",
   "execution_count": 28,
   "metadata": {},
   "outputs": [
    {
     "name": "stdout",
     "output_type": "stream",
     "text": [
      "85\n",
      "12\n",
      "distancia: 73 km\n",
      "distancia: 45.333 mi\n"
     ]
    }
   ],
   "source": [
    "planeta_1 = input (\"¿Cual es la distancia al Sol del Planeta_1 ?\")\n",
    "planeta_1 = int(planeta_1)\n",
    "print(planeta_1)\n",
    "\n",
    "planeta_2 = input (\"¿Cual es la distancia al Sol del Planeta_2 ?\")\n",
    "planeta_2 = int(planeta_2)\n",
    "print(planeta_2)\n",
    "\n",
    "distancia = planeta_1 - planeta_2\n",
    "print('distancia: ' + str(abs(distancia)) + ' km')\n",
    "\n",
    "distanciaMi = distancia * 0.621\n",
    "print('distancia: ' + str(abs(distanciaMi)) + ' mi')"
   ]
  }
 ],
 "metadata": {
  "interpreter": {
   "hash": "b6f00e4f449cb378534eec96af1ce9488fe7fc70eae000ad8c6006057ce373b2"
  },
  "kernelspec": {
   "display_name": "Python 3.9.10 64-bit",
   "language": "python",
   "name": "python3"
  },
  "language_info": {
   "codemirror_mode": {
    "name": "ipython",
    "version": 3
   },
   "file_extension": ".py",
   "mimetype": "text/x-python",
   "name": "python",
   "nbconvert_exporter": "python",
   "pygments_lexer": "ipython3",
   "version": "3.9.10"
  },
  "orig_nbformat": 4
 },
 "nbformat": 4,
 "nbformat_minor": 2
}
