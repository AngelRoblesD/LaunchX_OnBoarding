{
 "cells": [
  {
   "cell_type": "code",
   "execution_count": null,
   "metadata": {},
   "outputs": [],
   "source": []
  },
  {
   "cell_type": "markdown",
   "metadata": {},
   "source": [
    "# Kata 6\n",
    "\n",
    "Ejercicio1: Crear y usar listas de Python\n",
    "Ejercicio: Usar listas para almacenar nombres de planetas\n",
    "\n",
    "Las listas permiten almacenar varios valores en una sola variable. Comenzarás un proyecto sobre información planetaria creando una lista de planetas."
   ]
  },
  {
   "cell_type": "markdown",
   "metadata": {},
   "source": [
    "\n",
    "\n",
    "En primer lugar, crea una variable denominada planets. Agrega los ocho planetas (sin Plutón) a la lista. A continuación, muestra el número de planetas.\n"
   ]
  },
  {
   "cell_type": "code",
   "execution_count": 1,
   "metadata": {},
   "outputs": [
    {
     "name": "stdout",
     "output_type": "stream",
     "text": [
      "['Mercury', 'Venus', 'Earth', 'Mars', 'Jupiter', 'Saturn', 'Uranus', 'Neptune']\n"
     ]
    }
   ],
   "source": [
    "planets = ['Mercury', 'Venus', 'Earth', 'Mars', 'Jupiter', 'Saturn', 'Uranus', 'Neptune']\n",
    "print (planets)"
   ]
  },
  {
   "cell_type": "markdown",
   "metadata": {},
   "source": [
    "Agrega a Plutón a la lista que creaste. Luego muestra tanto el número de planetas como el último planeta de la lista."
   ]
  },
  {
   "cell_type": "code",
   "execution_count": 6,
   "metadata": {},
   "outputs": [
    {
     "name": "stdout",
     "output_type": "stream",
     "text": [
      "['Mercury', 'Venus', 'Earth', 'Mars', 'Jupiter', 'Saturn', 'Uranus', 'Neptune', 'Pluto']\n",
      "numbrer of planets:  9  in this list\n",
      "The last planet is Pluto\n"
     ]
    }
   ],
   "source": [
    "planets = ['Mercury', 'Venus', 'Earth', 'Mars', 'Jupiter', 'Saturn', 'Uranus', 'Neptune']\n",
    "#print (planets)\n",
    "\n",
    "planets.append('Pluto')\n",
    "print (planets)\n",
    "\n",
    "numOfPlanets = len(planets)\n",
    "print('numbrer of planets: ', numOfPlanets, ' in this list')\n",
    "print('The last planet is', planets[-1])"
   ]
  },
  {
   "cell_type": "markdown",
   "metadata": {},
   "source": [
    "\n",
    "Ejercicio 2: Trabajando con datos de una lista\n",
    "Usar slices para recuperar partes de una lista\n",
    "\n",
    "Es posible que debas trabajar con diferentes secciones de una lista. En nuestro ejemplo, queremos mostrar planetas más cerca y más lejos del sol de un planeta que el usuario ingresa por teclado.\n",
    "\n",
    "Comienza agregando el código para crear una lista con los planetas.\n"
   ]
  },
  {
   "cell_type": "code",
   "execution_count": 7,
   "metadata": {},
   "outputs": [
    {
     "name": "stdout",
     "output_type": "stream",
     "text": [
      "Uranus\n"
     ]
    }
   ],
   "source": [
    "planets = ['Mercury', 'Venus', 'Earth', 'Mars', 'Jupiter', 'Saturn', 'Uranus', 'Neptune']\n",
    "\n",
    "planet = input('introduce el nombre de un planeta -> PRIMERA LETRA MAYUSCULA: Mars')\n",
    "\n",
    "print(planet)"
   ]
  },
  {
   "cell_type": "markdown",
   "metadata": {},
   "source": [
    "\n",
    "Encuentra el planeta en la lista\n",
    "\n",
    "Para determinar qué planetas están más cerca que el que ingresó el usuario, debes encontrar dónde está el planeta en la lista. Puedes utilizar index para realizar esta operación. Agrega el código para encontrar el índice del planeta.\n"
   ]
  },
  {
   "cell_type": "code",
   "execution_count": 12,
   "metadata": {},
   "outputs": [
    {
     "name": "stdout",
     "output_type": "stream",
     "text": [
      "Saturn\n",
      "Saturn is the  6 planet from the Sun\n"
     ]
    }
   ],
   "source": [
    "planets = ['Mercury', 'Venus', 'Earth', 'Mars', 'Jupiter', 'Saturn', 'Uranus', 'Neptune']\n",
    "\n",
    "planet = input('introduce el nombre de un planeta -> PRIMERA LETRA MAYUSCULA: Mars')\n",
    "\n",
    "print(planet)\n",
    "\n",
    "planet_index = planets.index(planet)\n",
    "#print(planet_index)\n",
    "\n",
    "print(planet, 'is the ', planet_index + 1, 'planet from the Sun')"
   ]
  },
  {
   "cell_type": "markdown",
   "metadata": {},
   "source": [
    "\n",
    "Mostrar planetas más cercanos al sol que el que el usuario ingresó\n",
    "\n",
    "Con el índice determinado, ahora puedes agregar el código para mostrar los planetas más cercanos al sol.\n"
   ]
  },
  {
   "cell_type": "code",
   "execution_count": 7,
   "metadata": {},
   "outputs": [
    {
     "name": "stdout",
     "output_type": "stream",
     "text": [
      "Neptune\n",
      "7\n",
      "Neptune is the  8 planet from the Sun\n",
      "el vecino mas cercano al sol de  Neptune es:  Uranus\n",
      "Los planetas mas lejanos despues de  Neptune son:  ['Mercury', 'Venus', 'Earth', 'Mars', 'Jupiter', 'Saturn', 'Uranus']\n"
     ]
    }
   ],
   "source": [
    "planets = ['Mercury', 'Venus', 'Earth', 'Mars', 'Jupiter', 'Saturn', 'Uranus', 'Neptune']\n",
    "\n",
    "planet = input('introduce el nombre de un planeta -> PRIMERA LETRA MAYUSCULA: Mars')\n",
    "\n",
    "print(planet)\n",
    "\n",
    "planet_index = planets.index(planet)\n",
    "print(planet_index)\n",
    "\n",
    "#planetNeighbor = planet_index\n",
    "#print(planetNeighbor)\n",
    "\n",
    "print(planet, 'is the ', planet_index + 1, 'planet from the Sun')\n",
    "\n",
    "print('el vecino mas cercano al sol de ', planet, 'es: ', planets[planet_index -1])\n",
    "# si ingresa Mercury el index-1 pasa al ultimo lugar de la lista >:| ... ciclo for??\n",
    "\n",
    "planets_before= planets[ 0 : planet_index]\n",
    "print('Los planetas mas cercanos al sol de ', planet, 'son: ', planets_before) \n",
    "\n"
   ]
  },
  {
   "cell_type": "markdown",
   "metadata": {},
   "source": [
    "\n",
    "Mostrar planetas más alejados del sol que el que el usuario ingresó\n",
    "\n",
    "Puedes usar el mismo índice para mostrar planetas más alejados del sol. Sin embargo, recuerda que el índice inicial se incluye cuando usas un slice. Como resultado, tendrás que agregar 1 al valor. Agrega el código para mostrar los planetas más alejados del sol."
   ]
  },
  {
   "cell_type": "code",
   "execution_count": 9,
   "metadata": {},
   "outputs": [
    {
     "name": "stdout",
     "output_type": "stream",
     "text": [
      "Neptune\n",
      "7\n",
      "Neptune is the  8 planet from the Sun\n",
      "el vecino mas cercano al sol de  Neptune es:  Uranus\n",
      "Los planetas mas cercanos al sol de  Neptune son:  ['Mercury', 'Venus', 'Earth', 'Mars', 'Jupiter', 'Saturn', 'Uranus']\n",
      "Los planetas mas lejanos despues de  Neptune son:  []\n"
     ]
    }
   ],
   "source": [
    "planets = ['Mercury', 'Venus', 'Earth', 'Mars', 'Jupiter', 'Saturn', 'Uranus', 'Neptune']\n",
    "\n",
    "planet = input('introduce el nombre de un planeta -> PRIMERA LETRA MAYUSCULA: Mars')\n",
    "\n",
    "print(planet)\n",
    "\n",
    "planet_index = planets.index(planet)\n",
    "print(planet_index)\n",
    "print(planet, 'is the ', planet_index + 1, 'planet from the Sun')\n",
    "\n",
    "print('el vecino mas cercano al sol de ', planet, 'es: ', planets[planet_index -1])\n",
    "# si ingresa Mercury el index-1 pasa al ultimo lugar de la lista >:| ... ciclo for??\n",
    "\n",
    "planets_before= planets[ 0 : planet_index]\n",
    "print('Los planetas mas cercanos al sol de ', planet, 'son: ', planets_before) \n",
    "\n",
    "planets_after = planets[planet_index + 1:8]\n",
    "print('Los planetas mas lejanos despues de ', planet, 'son: ', planets_after) "
   ]
  }
 ],
 "metadata": {
  "interpreter": {
   "hash": "b6f00e4f449cb378534eec96af1ce9488fe7fc70eae000ad8c6006057ce373b2"
  },
  "kernelspec": {
   "display_name": "Python 3.9.10 64-bit",
   "language": "python",
   "name": "python3"
  },
  "language_info": {
   "codemirror_mode": {
    "name": "ipython",
    "version": 3
   },
   "file_extension": ".py",
   "mimetype": "text/x-python",
   "name": "python",
   "nbconvert_exporter": "python",
   "pygments_lexer": "ipython3",
   "version": "3.9.10"
  },
  "orig_nbformat": 4
 },
 "nbformat": 4,
 "nbformat_minor": 2
}
