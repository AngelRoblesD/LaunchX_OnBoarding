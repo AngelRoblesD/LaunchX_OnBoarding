{
 "cells": [
  {
   "cell_type": "code",
   "execution_count": null,
   "metadata": {},
   "outputs": [],
   "source": []
  },
  {
   "cell_type": "markdown",
   "metadata": {},
   "source": [
    "# Kata 3\n",
    "\n",
    "Para este ejercicio, escribirás una lógica condicional que imprima una advertencia si un asteroide se acerca a la Tierra demasiado rápido. La velocidad del asteroide varía dependiendo de lo cerca que esté del sol, y cualquier velocidad superior a 25 kilómetros por segundo (km/s) merece una advertencia.\n",
    "\n",
    "Un asteroide se acerca, y viaja a una velocidad de 49 km/s."
   ]
  },
  {
   "cell_type": "markdown",
   "metadata": {},
   "source": [
    " Añadir el código necesario para crear una variable que guarde la velocidad del asteroide.\n",
    " Escribe una expresión de prueba para calcular si necesita una advertencia.\n",
    " Agregue las instrucciones que se ejecutarán si la expresión de prueba es true o false."
   ]
  },
  {
   "cell_type": "code",
   "execution_count": 3,
   "metadata": {},
   "outputs": [
    {
     "name": "stdout",
     "output_type": "stream",
     "text": [
      "la velocidad del asteroide es 5 km/s\n",
      "Be Happy :D \n"
     ]
    }
   ],
   "source": [
    "asteroide = input ( ' Introducir velocodad del Asteoride' ) #str\n",
    "\n",
    "asteroide = int (asteroide)     #str -> int\n",
    "\n",
    "print('la velocidad del asteroide es ' + str(asteroide) + ' km/s')\n",
    "\n",
    "if asteroide >= 25:\n",
    "    print('ADVERTENCIA DE ASTEROIDE ')\n",
    "else:\n",
    "    print('Be Happy :D ')\n"
   ]
  },
  {
   "cell_type": "markdown",
   "metadata": {},
   "source": [
    "Si un asteroide entra en la atmósfera de la Tierra a una velocidad mayor o igual a 20 km/s, a veces produce un rayo de luz que se puede ver desde la Tierra. Escribe la lógica condicional que usa declaraciones if, else, y elif para alertar a las personas de todo el mundo que deben buscar un asteroide en el cielo. ¡Hay uno que se dirige a la tierra ahora a una velocidad de 19 km/s!"
   ]
  },
  {
   "cell_type": "markdown",
   "metadata": {},
   "source": [
    " Agrega el código para crear una variable para un asteroide que viaja a 19 km/s\n",
    " Escribe varias expresiones de prueba para determinar si puedes ver el rayo de luz desde la tierra\n",
    " Agrega las instrucciones que se ejecutarán si las expresiones de prueba son True o False"
   ]
  },
  {
   "cell_type": "code",
   "execution_count": null,
   "metadata": {},
   "outputs": [
    {
     "name": "stdout",
     "output_type": "stream",
     "text": [
      "la velocidad del asteroide es 25 km/s\n",
      "0 dentro de la atmosfera\n",
      "no hay asteroide en el cielo\n"
     ]
    }
   ],
   "source": [
    "asteroide = input ( ' Introducir velocodad del Asteoride' ) #str\n",
    "asteroide = int (asteroide)     #str -> int\n",
    "print('la velocidad del asteroide es ' + str(asteroide) + ' km/s')\n",
    "\n",
    "atmosfera = input ( ' ¿Entró a la atmosfera? si=1/no=0')\n",
    "atmosfera = int(atmosfera)\n",
    "print(str(atmosfera) + ' dentro de la atmosfera')\n",
    "\n",
    "if asteroide >= 20:\n",
    "    if atmosfera == True:\n",
    "        print('deben buscar un asteroide en el cielo')\n",
    "    elif atmosfera == False:\n",
    "        print('no hay asteroide en el cielo')\n",
    "else:\n",
    "    print('no hay luz que buscar')\n",
    "\n",
    "\n",
    "    "
   ]
  },
  {
   "cell_type": "markdown",
   "metadata": {},
   "source": [
    "Los asteroides de menos de 25 metros en su dimensión más grande probablemente se quemarán a medida que entren en la atmósfera de la Tierra.\n",
    "\n",
    "    Si una pieza de un asteroide que es más grande que 25 metros pero más pequeña que 1000 metros golpeara la Tierra, causaría mucho daño.\n",
    "\n",
    "También discutimos en el ejercicio anterior que:\n",
    "\n",
    "    La velocidad del asteroide varía en función de lo cerca que esté del sol, y cualquier velocidad superior a 25 kilómetros por segundo (km/s) merece una advertencia.\n",
    "    \n",
    "    Si un asteroide entra en la atmósfera de la Tierra a una velocidad mayor o igual a 20 km/s, a veces produce un rayo de luz que se puede ver desde la Tierra.\n"
   ]
  },
  {
   "cell_type": "markdown",
   "metadata": {},
   "source": [
    "Usando toda esta información, escribe un programa que emita la advertencia o información correcta a la gente de la Tierra, según la velocidad y el tamaño de un asteroide. \n",
    "\n",
    "Utiliza instrucciones if, else, y elif, así como los operadores and y or."
   ]
  },
  {
   "cell_type": "markdown",
   "metadata": {},
   "source": [
    " Agrega el código para crear nuevas variables para la velocidad y el tamaño del asteroide\n",
    " Para probar el código, prueba con varias velocidades y tamaños\n",
    " Escribe varias expresiones de prueba o combinaciones de expresiones de prueba para determinar qué mensaje se debe enviar a Tierra."
   ]
  },
  {
   "cell_type": "code",
   "execution_count": null,
   "metadata": {},
   "outputs": [
    {
     "name": "stdout",
     "output_type": "stream",
     "text": [
      "la velocidad del asteroide es 25000 km/s\n",
      "el tamaño del asteroide es de 2500 metros\n",
      "0 dentro de la atmosfera\n",
      "no hay asteroide en el cielo\n"
     ]
    }
   ],
   "source": [
    "asteroideV = input ( ' Introducir velocodad del Asteoride' ) #str\n",
    "asteroideV = int (asteroideV)     #str -> int\n",
    "print('la velocidad del asteroide es ' + str(asteroideV) + ' km/s')\n",
    "\n",
    "asteroideT = input (' Tamaño del asteroide ')\n",
    "asteroideT = int (asteroideT)\n",
    "print('el tamaño del asteroide es de ' + str(asteroideT) + ' metros')\n",
    "\n",
    "atmosfera = input ( ' ¿Entró a la atmosfera? si=1/no=0')\n",
    "atmosfera = int(atmosfera)\n",
    "print(str(atmosfera) + ' dentro de la atmosfera')\n",
    "\n",
    "\n",
    "if atmosfera == True:\n",
    "    if asteroideV >= 25:\n",
    "        print('¿hay una luz azul? :D ')\n",
    "        if asteroideT < 25:\n",
    "            print( 'Adventencia de Asteroide SIN RIESGO DE IMPACTO')\n",
    "        elif asteroideT < 1000:\n",
    "            print(' ADVERTENCIA DE ASTEROIDE Y DESASTRE GLOBAL ')\n",
    "        else:\n",
    "            print(' ANIQUILACIÓN D: ')\n",
    "    else:\n",
    "        print('no hay una luz azul :C ')\n",
    "        if asteroideT < 25:\n",
    "            print( 'Adventencia de Asteroide (lento) SIN RIESGO DE IMPACTO')\n",
    "        elif asteroideT < 1000:\n",
    "            print(' ADVERTENCIA DE ASTEROIDE [¿lento?] Y DESASTRE GLOBAL ')\n",
    "        else:\n",
    "            print('  ANIQUILACIÓN (¿lenta?) D: ')\n",
    "else:\n",
    "    print('no hay asteroide en el cielo')\n",
    "      \n",
    "    \n"
   ]
  }
 ],
 "metadata": {
  "interpreter": {
   "hash": "b6f00e4f449cb378534eec96af1ce9488fe7fc70eae000ad8c6006057ce373b2"
  },
  "kernelspec": {
   "display_name": "Python 3.9.10 64-bit",
   "language": "python",
   "name": "python3"
  },
  "language_info": {
   "codemirror_mode": {
    "name": "ipython",
    "version": 3
   },
   "file_extension": ".py",
   "mimetype": "text/x-python",
   "name": "python",
   "nbconvert_exporter": "python",
   "pygments_lexer": "ipython3",
   "version": "3.9.10"
  },
  "orig_nbformat": 4
 },
 "nbformat": 4,
 "nbformat_minor": 2
}
